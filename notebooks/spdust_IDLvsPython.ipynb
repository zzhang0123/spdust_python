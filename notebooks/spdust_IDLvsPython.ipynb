{
 "cells": [
  {
   "cell_type": "code",
   "execution_count": 1,
   "metadata": {},
   "outputs": [
    {
     "name": "stdout",
     "output_type": "stream",
     "text": [
      "l_a computed\n",
      "readPAH computed\n",
      "Loaded previously computed Jpeisrf arrays from file.\n",
      "Maximum energy in the Qabs_hnu_tab is 1239.84 eV.\n",
      "FIR_integral_charged shape: (30, 30)\n",
      "Na: 30, Nchi: 30\n",
      "Tev table already exists at /Users/user/PythonProjects/SpDust/spdust/Data_Files/Tev_30a_30chi.txt.\n",
      "I(Zg<0, parabolic) stored\n",
      "I(rot, e, Zg <> 0) stored\n",
      "Gaunt factor stored\n"
     ]
    }
   ],
   "source": [
    "import sys\n",
    "import os\n",
    "import numpy as np\n",
    "# Add the root directory of the package to sys.path\n",
    "sys.path.append('/Users/user/PythonProjects/SpDust/')\n",
    "\n",
    "from spdust.charge_dist import charge_dist\n",
    "from spdust.emissivity import *"
   ]
  },
  {
   "cell_type": "code",
   "execution_count": 16,
   "metadata": {},
   "outputs": [],
   "source": [
    "# See DL98b table I for the parameters\n",
    "\n",
    "# nh: number density of hydrogen atoms in cm^-3\n",
    "# T: temperature in K\n",
    "# Chi: intensity of the radiation field relative to the average interstelar radiation field\n",
    "# xh: hydrogen ionization fraction\n",
    "# xC: ionized carbon fractional abundance\n",
    "# y: molecular hydrogen fractional abundance\n",
    "# gamma: H2 formation efficiency\n",
    "# dipole: rms dipole moment for dust grains in Debye \n",
    "# line: parameters for the grain size distribution : provide the corresponding line of table 1 of Weingartner\n",
    "# & Draine (2001b) (starting at one) under the tag line\n",
    "\n",
    "DC_params = {'nh' : 1e4, 'T': 10., 'Chi': 1e-4, 'xh': 0., 'xC': 1e-6, 'y' : 0.999,  'gamma': 0, 'dipole': 9.3, 'line':7}\n",
    "\n",
    "MC_params = {'nh' : 3e2, 'T': 20., 'Chi': 1e-2, 'xh': 0., 'xC': 1e-4, 'y' : 0.99,  'gamma': 0, 'dipole': 9.3, 'line':7}    \n",
    "\n",
    "CNM_params = {'nh' : 30, 'T': 100., 'Chi': 1, 'xh': 1.2e-3, 'xC': 3e-4, 'y' : 0, 'gamma': 0, 'dipole': 9.3, 'line':7}\n",
    "\n",
    "WNM_params = {'nh' : 0.4, 'T': 6000., 'Chi': 1., 'xh': 0.1, 'xC': 3e-4, 'y' : 0, 'gamma': 0, 'dipole': 9.3, 'line':7}\n",
    "\n",
    "WIM_params = {'nh' : 0.1, 'T': 8000., 'Chi': 1., 'xh': 0.99, 'xC': 1e-3, 'y' : 0, 'gamma': 0, 'dipole': 9.3, 'line':7}\n",
    "\n",
    "RN_params = {'nh' : 1000., 'T': 100., 'Chi': 1000., 'xh': 0.001, 'xC': 2e-4, 'y' : 0.5, 'gamma': 0, 'dipole': 9.3, 'line':7}\n",
    "\n",
    "PDR_params = {'nh' : 1e5, 'T': 300., 'Chi': 3000., 'xh': 0.0001, 'xC': 2e-4, 'y' : 0.5, 'gamma': 0, 'dipole': 9.3, 'line':7}"
   ]
  },
  {
   "cell_type": "markdown",
   "metadata": {},
   "source": [
    "### Inputs for the IDL SPDUST\n",
    "\n",
    "DC_params = {nh : 1d4, T: 10d, chi: 1d-4, xh: 0d, xc: 1d-6, y : 0.999d, gamma: 0d, dipole: 9.3d, line:7}\n",
    "\n",
    "MC_params = {nh : 3d2, T: 20d, chi: 1d-2, xh: 0d, xc: 1d-4, y : 0.99d, gamma: 0d, dipole: 9.3d, line:7}\n",
    "\n",
    "CNM_params = {nh : 30d, T: 1d2, chi: 1d, xh: 1.2d-3, xc: 3d-4, y : 0d, gamma: 0d, dipole: 9.3d, line:7}\n",
    "\n",
    "WNM_params = {nh : 0.4d, T: 6d3, chi: 1d, xh: 0.1d, xc: 3d-4, y : 0d, gamma: 0d, dipole: 9.3d, line:7}\n",
    "\n",
    "WIM_params = {nh : 0.1d, T: 8d3, chi: 1d, xh: 0.99d, xc: 1d-3, y : 0d, gamma: 0d, dipole: 9.3d, line:7}\n",
    "\n",
    "RN_params = {nh : 1d3, T: 1d2, chi: 1d3, xh: 1d-3, xc: 2d-4, y : 0.5d, gamma: 0d, dipole: 9.3d, line:7}\n",
    "\n",
    "PDR_params = {nh : 1d5, T: 3d2, chi: 3d3, xh: 1d-4, xc: 2d-4, y : 0.5d, gamma: 0d, dipole: 9.3d, line:7}"
   ]
  },
  {
   "cell_type": "code",
   "execution_count": 17,
   "metadata": {},
   "outputs": [],
   "source": [
    "from spdust.spdust import SPDUST"
   ]
  },
  {
   "cell_type": "code",
   "execution_count": 18,
   "metadata": {},
   "outputs": [
    {
     "name": "stdout",
     "output_type": "stream",
     "text": [
      "Assuming that disklike grains spin around their axis of greatest inertia\n",
      "Assuming that disklike grains spin around their axis of greatest inertia\n"
     ]
    }
   ],
   "source": [
    "result_DC = SPDUST(DC_params, min_freq = 1, max_freq=300, n_freq=500, tumbling=False)\n",
    "result_MC = SPDUST(MC_params, min_freq = 1, max_freq=300, n_freq=500, tumbling=False)\n",
    "result_CNM = SPDUST(CNM_params, min_freq = 1, max_freq=300, n_freq=500)\n",
    "result_WNM = SPDUST(WNM_params, min_freq = 1, max_freq=300, n_freq=500)\n",
    "result_WIM = SPDUST(WIM_params, min_freq = 1, max_freq=300, n_freq=500)\n",
    "result_RN = SPDUST(RN_params, min_freq = 1, max_freq=300, n_freq=500)\n",
    "result_PDR = SPDUST(PDR_params, min_freq = 1, max_freq=300, n_freq=500)"
   ]
  },
  {
   "cell_type": "code",
   "execution_count": 19,
   "metadata": {},
   "outputs": [],
   "source": [
    "# Import the IDL results for comparison \n",
    "idl_result_DC = np.loadtxt('/Users/user/DC_emiss.out', comments=';')\n",
    "idl_result_MC = np.loadtxt('/Users/user/MC_emiss.out', comments=';')\n",
    "idl_result_CNM = np.loadtxt('/Users/user/CNM_emiss.out', comments=';')\n",
    "idl_result_WNM = np.loadtxt('/Users/user/WNM_emiss.out', comments=';')\n",
    "idl_result_WIM = np.loadtxt('/Users/user/WIM_emiss.out', comments=';')\n",
    "idl_result_RN = np.loadtxt('/Users/user/RN_emiss.out', comments=';')\n",
    "idl_result_PDR = np.loadtxt('/Users/user/PDR_emiss.out', comments=';')"
   ]
  },
  {
   "cell_type": "code",
   "execution_count": 20,
   "metadata": {},
   "outputs": [],
   "source": [
    "python_results = [ result_DC, result_MC,\n",
    "                    result_CNM, result_WNM, result_WIM, result_RN, result_PDR]\n",
    "idl_results = [ idl_result_DC, idl_result_MC,\n",
    "                idl_result_CNM, idl_result_WNM, idl_result_WIM, idl_result_RN, idl_result_PDR]\n",
    "ISM_list = [ 'DC', 'MC', 'CNM', 'WNM', 'WIM', 'RN', 'PDR']"
   ]
  },
  {
   "cell_type": "code",
   "execution_count": 1,
   "metadata": {},
   "outputs": [
    {
     "ename": "NameError",
     "evalue": "name 'python_results' is not defined",
     "output_type": "error",
     "traceback": [
      "\u001b[0;31m---------------------------------------------------------------------------\u001b[0m",
      "\u001b[0;31mNameError\u001b[0m                                 Traceback (most recent call last)",
      "Cell \u001b[0;32mIn[1], line 5\u001b[0m\n\u001b[1;32m      3\u001b[0m \u001b[38;5;28;01mfor\u001b[39;00m i \u001b[38;5;129;01min\u001b[39;00m \u001b[38;5;28mrange\u001b[39m(\u001b[38;5;241m7\u001b[39m):\n\u001b[1;32m      4\u001b[0m     plt\u001b[38;5;241m.\u001b[39mfigure()\n\u001b[0;32m----> 5\u001b[0m     plt\u001b[38;5;241m.\u001b[39mplot(python_results[i][\u001b[38;5;241m0\u001b[39m,:], python_results[i][\u001b[38;5;241m1\u001b[39m,:],  lw\u001b[38;5;241m=\u001b[39m\u001b[38;5;241m2.5\u001b[39m, alpha\u001b[38;5;241m=\u001b[39m\u001b[38;5;241m0.5\u001b[39m, label\u001b[38;5;241m=\u001b[39m\u001b[38;5;124m'\u001b[39m\u001b[38;5;124mPython\u001b[39m\u001b[38;5;124m'\u001b[39m)\n\u001b[1;32m      6\u001b[0m     plt\u001b[38;5;241m.\u001b[39mplot(idl_results[i][:,\u001b[38;5;241m0\u001b[39m], idl_results[i][:,\u001b[38;5;241m1\u001b[39m], label\u001b[38;5;241m=\u001b[39m\u001b[38;5;124m'\u001b[39m\u001b[38;5;124mIDL\u001b[39m\u001b[38;5;124m'\u001b[39m, lw\u001b[38;5;241m=\u001b[39m\u001b[38;5;241m2\u001b[39m, linestyle\u001b[38;5;241m=\u001b[39m\u001b[38;5;124m'\u001b[39m\u001b[38;5;124m--\u001b[39m\u001b[38;5;124m'\u001b[39m)\n\u001b[1;32m      7\u001b[0m     plt\u001b[38;5;241m.\u001b[39mplot(python_results[i][\u001b[38;5;241m0\u001b[39m,:], python_results[i][\u001b[38;5;241m1\u001b[39m,:]\u001b[38;5;241m-\u001b[39midl_results[i][:,\u001b[38;5;241m1\u001b[39m], label\u001b[38;5;241m=\u001b[39m\u001b[38;5;124m'\u001b[39m\u001b[38;5;124mPython - IDL\u001b[39m\u001b[38;5;124m'\u001b[39m, linestyle\u001b[38;5;241m=\u001b[39m\u001b[38;5;124m'\u001b[39m\u001b[38;5;124m-.\u001b[39m\u001b[38;5;124m'\u001b[39m, color\u001b[38;5;241m=\u001b[39m\u001b[38;5;124m'\u001b[39m\u001b[38;5;124mgray\u001b[39m\u001b[38;5;124m'\u001b[39m)\n",
      "\u001b[0;31mNameError\u001b[0m: name 'python_results' is not defined"
     ]
    },
    {
     "data": {
      "text/plain": [
       "<Figure size 640x480 with 0 Axes>"
      ]
     },
     "metadata": {},
     "output_type": "display_data"
    }
   ],
   "source": [
    "import matplotlib.pyplot as plt\n",
    "\n",
    "for i in range(7):\n",
    "    plt.figure()\n",
    "    plt.plot(python_results[i][0,:], python_results[i][1,:],  lw=2.5, alpha=0.5, label='Python')\n",
    "    plt.plot(idl_results[i][:,0], idl_results[i][:,1], label='IDL', lw=2, linestyle='--')\n",
    "    plt.plot(python_results[i][0,:], python_results[i][1,:]-idl_results[i][:,1], label='Python - IDL', linestyle='-.', color='gray')\n",
    "    plt.legend()\n",
    "    plt.title(ISM_list[i])\n",
    "    plt.xlabel('Frequency (GHz)')\n",
    "    plt.ylabel('Emissivity (erg/s/cm^3)')\n",
    "    plt.ylim(5e-27, 5e-17)\n",
    "    plt.yscale('log')\n",
    "    plt.xscale('log')\n",
    "    plt.show()    "
   ]
  },
  {
   "cell_type": "code",
   "execution_count": null,
   "metadata": {},
   "outputs": [],
   "source": []
  }
 ],
 "metadata": {
  "kernelspec": {
   "display_name": "hydra",
   "language": "python",
   "name": "python3"
  },
  "language_info": {
   "codemirror_mode": {
    "name": "ipython",
    "version": 3
   },
   "file_extension": ".py",
   "mimetype": "text/x-python",
   "name": "python",
   "nbconvert_exporter": "python",
   "pygments_lexer": "ipython3",
   "version": "3.11.5"
  }
 },
 "nbformat": 4,
 "nbformat_minor": 2
}
